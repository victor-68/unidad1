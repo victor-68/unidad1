{
  "nbformat": 4,
  "nbformat_minor": 0,
  "metadata": {
    "colab": {
      "provenance": [],
      "authorship_tag": "ABX9TyMXtk9LodUQ0FYp8VQ1jNle",
      "include_colab_link": true
    },
    "kernelspec": {
      "name": "python3",
      "display_name": "Python 3"
    },
    "language_info": {
      "name": "python"
    }
  },
  "cells": [
    {
      "cell_type": "markdown",
      "metadata": {
        "id": "view-in-github",
        "colab_type": "text"
      },
      "source": [
        "<a href=\"https://colab.research.google.com/github/victor-68/unidad1/blob/main/practica6.ipynb\" target=\"_parent\"><img src=\"https://colab.research.google.com/assets/colab-badge.svg\" alt=\"Open In Colab\"/></a>"
      ]
    },
    {
      "cell_type": "markdown",
      "source": [
        "victor martinez alvarez - 24 de septiembre de 2025\n",
        "practica 6 - corta arreglos numpy\n",
        "---------------------------------\n",
        "silice en python significa tomar elementos de\n",
        "un indice determinado a otro determinado\n",
        "indice.\n",
        "\n",
        "pasamos silice en lugar del indice de esta\n",
        "manera [stard:end]\n",
        "si no pasamos el inicio se considera 0\n",
        "si no pasamos el final su longutud\n",
        "es considerada una matriz de una dimencion\n",
        "--------------\n",
        "ejemplo:([1,2,3,4,5,6,7])\n",
        "por tal los elementos del indice 1 al indice 5\n",
        "---------"
      ],
      "metadata": {
        "id": "k8rukcxfC-3k"
      }
    },
    {
      "cell_type": "code",
      "execution_count": 1,
      "metadata": {
        "colab": {
          "base_uri": "https://localhost:8080/"
        },
        "id": "t5o3sFhqC8Ic",
        "outputId": "480eb3f5-d4e8-417e-f6ef-be58c73dab07"
      },
      "outputs": [
        {
          "output_type": "stream",
          "name": "stdout",
          "text": [
            "[2 3 4 5]\n"
          ]
        }
      ],
      "source": [
        "import numpy as np\n",
        "arreglo=np.array([1,2,3,4,5,6,7])\n",
        "print(arreglo[1:5])"
      ]
    },
    {
      "cell_type": "markdown",
      "source": [
        "Ejemplo 2:\n",
        "([1,2,3,4,5,6,7)]\n",
        "cortar del indice 4 hasta el final de la\n",
        "matriz\n",
        "----------------"
      ],
      "metadata": {
        "id": "hFhx4an5LKoj"
      }
    },
    {
      "cell_type": "code",
      "source": [
        "import numpy as np\n",
        "arreglo=np.array ([1,2,3,4,5,6,7])\n",
        "print(arreglo[4:])"
      ],
      "metadata": {
        "colab": {
          "base_uri": "https://localhost:8080/"
        },
        "id": "RWqCzBnuLfVs",
        "outputId": "b8cfd788-c55e-4fba-e0bb-1a94d95446ce"
      },
      "execution_count": 2,
      "outputs": [
        {
          "output_type": "stream",
          "name": "stdout",
          "text": [
            "[5 6 7]\n"
          ]
        }
      ]
    },
    {
      "cell_type": "markdown",
      "source": [
        "Ejemplo 3:\n",
        "([1,2,3,4,5,6,7])\n",
        "cortar elementos desde el principio hasta el indice 5\n"
      ],
      "metadata": {
        "id": "H2jX8-aEMIMm"
      }
    },
    {
      "cell_type": "code",
      "source": [
        "import numpy as np\n",
        "arreglo=np.array([1,2,3,4,5,6,7])\n",
        "print(arreglo[:5])"
      ],
      "metadata": {
        "colab": {
          "base_uri": "https://localhost:8080/"
        },
        "id": "CMLYGkQEMX-v",
        "outputId": "75b91ead-4f65-4366-c3ce-09af297258da"
      },
      "execution_count": 3,
      "outputs": [
        {
          "output_type": "stream",
          "name": "stdout",
          "text": [
            "[1 2 3 4 5]\n"
          ]
        }
      ]
    },
    {
      "cell_type": "markdown",
      "source": [
        "Ejemplo 4:\n",
        "([1,2,3,4,5,6,7])\n",
        "corte negativo.utilisamos el operador \"menos\" para hacer\n",
        "referencia a un indice desde final.\n",
        "--------------------------------\n",
        "cortar desde el indice 1 desde el final"
      ],
      "metadata": {
        "id": "JalWB7y1M2hR"
      }
    },
    {
      "cell_type": "code",
      "source": [
        "import numpy as np\n",
        "arreglo=np.array([1,2,3,4,5,6,7])\n",
        "print(arreglo[-3:-1])"
      ],
      "metadata": {
        "colab": {
          "base_uri": "https://localhost:8080/"
        },
        "id": "0Xq2ADDTNdHK",
        "outputId": "b49b9870-c7ae-465a-82bf-cbaf6d250e4b"
      },
      "execution_count": 4,
      "outputs": [
        {
          "output_type": "stream",
          "name": "stdout",
          "text": [
            "[5 6]\n"
          ]
        }
      ]
    }
  ]
}