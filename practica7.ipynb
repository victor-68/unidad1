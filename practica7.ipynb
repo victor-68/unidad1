{
  "nbformat": 4,
  "nbformat_minor": 0,
  "metadata": {
    "colab": {
      "provenance": [],
      "authorship_tag": "ABX9TyOu7d9HoPouBm2cf9FV85Iy",
      "include_colab_link": true
    },
    "kernelspec": {
      "name": "python3",
      "display_name": "Python 3"
    },
    "language_info": {
      "name": "python"
    }
  },
  "cells": [
    {
      "cell_type": "markdown",
      "metadata": {
        "id": "view-in-github",
        "colab_type": "text"
      },
      "source": [
        "<a href=\"https://colab.research.google.com/github/victor-68/unidad1/blob/main/practica7.ipynb\" target=\"_parent\"><img src=\"https://colab.research.google.com/assets/colab-badge.svg\" alt=\"Open In Colab\"/></a>"
      ]
    },
    {
      "cell_type": "markdown",
      "source": [
        "victor martinez alvarez - practica 7- 25 de septiembre 2025\n",
        "-------------\n",
        "slicing numpy\n",
        "-------------\n",
        "utiliza step par determinar el paso del corte:\n",
        "\n",
        "ejemplo: ([1,2,3,4,5,6,7])- devuelve todos los elementos\n",
        "del indice 1 al indice 5\n",
        "\n"
      ],
      "metadata": {
        "id": "KvDJWAglHSP4"
      }
    },
    {
      "cell_type": "code",
      "execution_count": 1,
      "metadata": {
        "colab": {
          "base_uri": "https://localhost:8080/"
        },
        "id": "lAef_MOBGinA",
        "outputId": "8a3e4170-d7a8-4a7e-95c8-53a3b21e5616"
      },
      "outputs": [
        {
          "output_type": "stream",
          "name": "stdout",
          "text": [
            "[2 4]\n"
          ]
        }
      ],
      "source": [
        "import numpy as np\n",
        "arreglo=np.array([1,2,3,4,5,6,7])\n",
        "print(arreglo[1:5:2])"
      ]
    },
    {
      "cell_type": "markdown",
      "source": [
        "ejemplo 2:([1,2,3,4,5,6,7])\n",
        "devuelve los elementos de la matriz"
      ],
      "metadata": {
        "id": "Z2xOzmHHIyU3"
      }
    },
    {
      "cell_type": "code",
      "source": [
        "import numpy as np\n",
        "arreglo=np.array([1,2,3,4,5,6,7])\n",
        "print(arreglo[::2])"
      ],
      "metadata": {
        "colab": {
          "base_uri": "https://localhost:8080/"
        },
        "id": "_in6k4DGJAAW",
        "outputId": "b944e8ba-9b77-46c7-f15e-0bcadbca60c6"
      },
      "execution_count": 2,
      "outputs": [
        {
          "output_type": "stream",
          "name": "stdout",
          "text": [
            "[1 3 5 7]\n"
          ]
        }
      ]
    },
    {
      "cell_type": "markdown",
      "source": [
        "slice de matrices 2D\n",
        "------------\n",
        "ejemplo: ([[1,2,3,4,5],[6,7,8,9,10]])\n",
        "del segundo elemento , corte del indice 1 al\n",
        "indice 4\n",
        "\n",
        "---\n",
        "\n"
      ],
      "metadata": {
        "id": "QHQfLa2ZJwpe"
      }
    },
    {
      "cell_type": "code",
      "source": [
        "import numpy as np\n",
        "arreglo=np.array([[1,2,3,4,5],[6,7,8,9,10]])\n",
        "print(arreglo[1, 1:4])"
      ],
      "metadata": {
        "colab": {
          "base_uri": "https://localhost:8080/"
        },
        "id": "uEYbaq1kLcGl",
        "outputId": "23651e9d-3b68-4562-c299-70a5d41540bc"
      },
      "execution_count": 3,
      "outputs": [
        {
          "output_type": "stream",
          "name": "stdout",
          "text": [
            "[7 8 9]\n"
          ]
        }
      ]
    },
    {
      "cell_type": "markdown",
      "source": [
        "ejemplo 4: ([[1,2,3,4,5],[6,7,8,9,10]])\n",
        "de ambos elementos,devuelven el indice 2\n",
        "--------------------"
      ],
      "metadata": {
        "id": "eX8xjwZpNCQ2"
      }
    },
    {
      "cell_type": "code",
      "source": [
        "import numpy as np\n",
        "arreglo=np.array([[1,2,3,4,5],[6,7,8,9,10]])\n",
        "print(arreglo[0:2, 2])"
      ],
      "metadata": {
        "colab": {
          "base_uri": "https://localhost:8080/"
        },
        "id": "MO2fEEEINf6H",
        "outputId": "d0b1332b-6a10-4f59-fc02-07d5043a3067"
      },
      "execution_count": 4,
      "outputs": [
        {
          "output_type": "stream",
          "name": "stdout",
          "text": [
            "[3 8]\n"
          ]
        }
      ]
    },
    {
      "cell_type": "markdown",
      "source": [
        "ejemplo 5: ([[1,2,3,4,5],[6,7,8,9,10]])\n",
        "de ambos elementos corta el indice 1\n",
        "al indice 4\n",
        "-----------------"
      ],
      "metadata": {
        "id": "V75ZCpREOEx2"
      }
    },
    {
      "cell_type": "code",
      "source": [
        "import numpy as np\n",
        "arreglo=np.array([[1,2,3,4,5],[6,7,8,9,10]])\n",
        "print(arreglo[0:2, 1:4])"
      ],
      "metadata": {
        "colab": {
          "base_uri": "https://localhost:8080/"
        },
        "id": "VRF7ZzBROa-3",
        "outputId": "31abc167-5d8a-4f16-fcd5-946e5329d598"
      },
      "execution_count": 5,
      "outputs": [
        {
          "output_type": "stream",
          "name": "stdout",
          "text": [
            "[[2 3 4]\n",
            " [7 8 9]]\n"
          ]
        }
      ]
    },
    {
      "cell_type": "markdown",
      "source": [
        "ejercicio 1: autonomo del siguiente arrglo,\n",
        "¿cual es el resultado? ([1,2,3,4,5,6,7,])\n",
        "corta del 1 elemento al 6 elemento\n",
        "con paso 2"
      ],
      "metadata": {
        "id": "yx0cIAQhPOZ2"
      }
    },
    {
      "cell_type": "code",
      "source": [
        "import numpy as np\n",
        "arreglo=np.array([1,2,3,4,5,6,7])\n",
        "print(arreglo[0:6:2])"
      ],
      "metadata": {
        "colab": {
          "base_uri": "https://localhost:8080/"
        },
        "id": "VCGoCN2aP61-",
        "outputId": "bc167ed3-c69f-4f6d-a417-ea81f6e8dc2e"
      },
      "execution_count": 8,
      "outputs": [
        {
          "output_type": "stream",
          "name": "stdout",
          "text": [
            "[1 3 5]\n"
          ]
        }
      ]
    }
  ]
}