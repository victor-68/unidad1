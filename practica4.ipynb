{
  "nbformat": 4,
  "nbformat_minor": 0,
  "metadata": {
    "colab": {
      "provenance": [],
      "authorship_tag": "ABX9TyO/CLa03LsvNj0WHpJcfSxU",
      "include_colab_link": true
    },
    "kernelspec": {
      "name": "python3",
      "display_name": "Python 3"
    },
    "language_info": {
      "name": "python"
    }
  },
  "cells": [
    {
      "cell_type": "markdown",
      "metadata": {
        "id": "view-in-github",
        "colab_type": "text"
      },
      "source": [
        "<a href=\"https://colab.research.google.com/github/victor-68/unidad1/blob/main/practica4.ipynb\" target=\"_parent\"><img src=\"https://colab.research.google.com/assets/colab-badge.svg\" alt=\"Open In Colab\"/></a>"
      ]
    },
    {
      "cell_type": "markdown",
      "source": [
        "actividad 14\n",
        "\n",
        "numpy indexacion de matrices acceder a elementos de una matriz\n",
        "\n",
        "la indexacion matrices es lo mismo que acceder a un\n",
        "elemento de un a matriz\n",
        "puedes acceder a un elemento de una matriz haciendo\n",
        "referencia a su numero de indice\n",
        "los indices en las matrices numpy comienzan\n",
        "en cero ,lo que significa que el primer\n",
        "elemento tiene indice cero,el segundo tiene indice\n",
        "uno el tercero tiene\n",
        "indice dos etc.\n",
        "\n",
        "ejemplo:obtenga el primer elemento de la siguiente matriz"
      ],
      "metadata": {
        "id": "y-wR0HjfPtVJ"
      }
    },
    {
      "cell_type": "code",
      "execution_count": 1,
      "metadata": {
        "colab": {
          "base_uri": "https://localhost:8080/"
        },
        "id": "k7UgZ3cJOic5",
        "outputId": "6fab67ec-7923-429b-f7f2-35f88bc820dc"
      },
      "outputs": [
        {
          "output_type": "stream",
          "name": "stdout",
          "text": [
            "1\n"
          ]
        }
      ],
      "source": [
        "import numpy as np\n",
        "arreglo= np.array([1,2,3,4,5])\n",
        "print(arreglo[0])"
      ]
    },
    {
      "cell_type": "markdown",
      "source": [
        "de la siguiente lista:6,7,8,10 obtenga el tercer elemento"
      ],
      "metadata": {
        "id": "AJPOc090TFu4"
      }
    },
    {
      "cell_type": "code",
      "source": [
        "import numpy as np\n",
        "arreglo= np.array([6,7,8,9,10])\n",
        "print(arreglo[2])\n",
        "print(arreglo[3])"
      ],
      "metadata": {
        "colab": {
          "base_uri": "https://localhost:8080/"
        },
        "id": "yP1pwSBhTTZp",
        "outputId": "c9cd3600-0160-46b3-9e48-90b448f65cfd"
      },
      "execution_count": 2,
      "outputs": [
        {
          "output_type": "stream",
          "name": "stdout",
          "text": [
            "8\n",
            "9\n"
          ]
        }
      ]
    },
    {
      "cell_type": "markdown",
      "source": [
        "acceder al matriz zd para accder ala matrices zd,podemos utilizar un numero enteros separados por comas que representan el numero de diemciones y el indices del elemento.\n",
        "piense en matrices zd como una tabla con filas,columnas,donde la dimencion reprecenta la fila y el indice reprecenta la columna\n",
        "\n",
        "ejemplo:realiza una matriz de 2D con los\n",
        "siguientes listas\n",
        "\n",
        "listas:1,2,3,4,5\n",
        "listas:6,7,8,9,10\n"
      ],
      "metadata": {
        "id": "Z9pUvBfPUEQ_"
      }
    },
    {
      "cell_type": "code",
      "source": [
        "import numpy as np\n",
        "arreglo=np.array([[1,2,3,4,5],[6,7,8,9,10]])\n",
        "print(arreglo[0,1])"
      ],
      "metadata": {
        "colab": {
          "base_uri": "https://localhost:8080/"
        },
        "id": "6OI-ek8JUn0A",
        "outputId": "461bc5c2-39ef-4a21-a53f-7bd62e9d1a09"
      },
      "execution_count": 5,
      "outputs": [
        {
          "output_type": "stream",
          "name": "stdout",
          "text": [
            "2\n"
          ]
        }
      ]
    },
    {
      "cell_type": "markdown",
      "source": [
        "de la matriz 2D accede al elemento de la primera fila 2 columna"
      ],
      "metadata": {
        "id": "piOcJ1ksXFQ4"
      }
    }
  ]
}