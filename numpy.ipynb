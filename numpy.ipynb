{
  "nbformat": 4,
  "nbformat_minor": 0,
  "metadata": {
    "colab": {
      "provenance": [],
      "authorship_tag": "ABX9TyNsagEanMTNjZtZeKfTLzyV",
      "include_colab_link": true
    },
    "kernelspec": {
      "name": "python3",
      "display_name": "Python 3"
    },
    "language_info": {
      "name": "python"
    }
  },
  "cells": [
    {
      "cell_type": "markdown",
      "metadata": {
        "id": "view-in-github",
        "colab_type": "text"
      },
      "source": [
        "<a href=\"https://colab.research.google.com/github/victor-68/unidad1/blob/main/numpy.ipynb\" target=\"_parent\"><img src=\"https://colab.research.google.com/assets/colab-badge.svg\" alt=\"Open In Colab\"/></a>"
      ]
    },
    {
      "cell_type": "code",
      "execution_count": null,
      "metadata": {
        "id": "fedFsDzViCvC"
      },
      "outputs": [],
      "source": []
    },
    {
      "cell_type": "markdown",
      "source": [
        "numpy es una libreria de python.\n",
        "numpy se utiliza para trabajar con\n",
        "matrices o arreglos\n",
        "numpy es la abreviatura de \"python\n",
        "numerico\"\n",
        "tambien tiene funciones para trabajar\n",
        "en el dominio de algebra lineal, la transformada\n",
        "y las matrices\n",
        "en python tenemos listas que sirve como matrices, pero son lentas\n",
        "de procesar. numpy tiene como objetivo proporcionar un objeto de matirzque\n",
        "que sea 50 veces mas rapido que las listas tradicionales."
      ],
      "metadata": {
        "id": "HKGyUMUki44v"
      }
    },
    {
      "cell_type": "code",
      "source": [
        "#primero tenemos que importar la libreria\n",
        "import numpy\n",
        "\n",
        "arreglo = numpy.array([1,2,3,4,5])\n",
        "print(arreglo)"
      ],
      "metadata": {
        "colab": {
          "base_uri": "https://localhost:8080/"
        },
        "id": "jrMJI23JlGym",
        "outputId": "e4989ab5-85d2-4080-a8f3-dacbc6255fa8"
      },
      "execution_count": 1,
      "outputs": [
        {
          "output_type": "stream",
          "name": "stdout",
          "text": [
            "[1 2 3 4 5]\n"
          ]
        }
      ]
    },
    {
      "cell_type": "markdown",
      "source": [
        "numpy como np general mente se importan bajo el\n",
        "alias np. en python los alias son un\n",
        "nombre alternativo para referirse a la\n",
        "misma cosa\n"
      ],
      "metadata": {
        "id": "w3jJLOcamLZ9"
      }
    },
    {
      "cell_type": "code",
      "source": [
        "import numpy as np\n",
        "arreglo = np.array([6,7,8,9,10])\n",
        "print(arreglo)"
      ],
      "metadata": {
        "colab": {
          "base_uri": "https://localhost:8080/"
        },
        "id": "cawWsk7hmvb8",
        "outputId": "9a83d376-8584-4f56-815a-1d06306e96db"
      },
      "execution_count": 2,
      "outputs": [
        {
          "output_type": "stream",
          "name": "stdout",
          "text": [
            "[ 6  7  8  9 10]\n"
          ]
        }
      ]
    },
    {
      "cell_type": "markdown",
      "source": [
        "comprovando la version de numpy\n",
        "la cadena de la version se almacena en\n",
        "el atributo _version_"
      ],
      "metadata": {
        "id": "napBvmygncN-"
      }
    },
    {
      "cell_type": "code",
      "source": [
        "import numpy as np\n",
        "\n",
        "print(np.__version__)"
      ],
      "metadata": {
        "colab": {
          "base_uri": "https://localhost:8080/"
        },
        "id": "hRJsVXEMrl5y",
        "outputId": "aab5c89a-6439-4d7b-e53d-0b7ff66689c2"
      },
      "execution_count": 14,
      "outputs": [
        {
          "output_type": "stream",
          "name": "stdout",
          "text": [
            "2.0.2\n"
          ]
        }
      ]
    },
    {
      "cell_type": "markdown",
      "source": [
        "numpy creando matrices\n",
        "crear un objeto ndarray de numpy\n",
        "numpy se utiliza para trabajar con\n",
        "matrises. el objeto de matriz se llama\n",
        "ndarray .podemos crear un numpy\n",
        "ndarray utilizando la funcion array\n"
      ],
      "metadata": {
        "id": "iTlPMICsoah7"
      }
    },
    {
      "cell_type": "code",
      "source": [
        "import numpy as np\n",
        "arreglo = np.array([\"angel\",\"javier\",\"valerio\",\"victor\"])\n",
        "print(arreglo)\n",
        "print(type(arreglo))"
      ],
      "metadata": {
        "colab": {
          "base_uri": "https://localhost:8080/"
        },
        "id": "htvt_kPlpiwE",
        "outputId": "87c270a8-abb0-4d24-d965-4806409d3101"
      },
      "execution_count": 11,
      "outputs": [
        {
          "output_type": "stream",
          "name": "stdout",
          "text": [
            "['angel' 'javier' 'valerio' 'victor']\n",
            "<class 'numpy.ndarray'>\n"
          ]
        }
      ]
    },
    {
      "cell_type": "markdown",
      "source": [
        "dimensione en matrices\n",
        "una demencion en matrices es un nivel\n",
        "de profundidad de matriz (matirces\n",
        "anidadas)\n",
        "una matriz anidada contiene matrices\n",
        "como elementos\n",
        "matrices 0-D.son elementos de una\n",
        "matriz 0-D ejemplos crea una matriz\n",
        "0-Dcon un valor de 42"
      ],
      "metadata": {
        "id": "qlnaxQm3qQNs"
      }
    },
    {
      "cell_type": "code",
      "source": [
        "import numpy as np\n",
        "arreglo = np.array (42)\n",
        "print(arreglo)"
      ],
      "metadata": {
        "colab": {
          "base_uri": "https://localhost:8080/"
        },
        "id": "IPXliuY_sNih",
        "outputId": "753a191e-4cdf-46db-f30b-aea8addd1313"
      },
      "execution_count": 13,
      "outputs": [
        {
          "output_type": "stream",
          "name": "stdout",
          "text": [
            "42\n"
          ]
        }
      ]
    },
    {
      "cell_type": "markdown",
      "source": [
        "matirces 1-D\n",
        "una matriz que tiene matrices 0-D\n",
        "como unidemenciones 0 1-D.\n",
        "estas son las matrices mas comunes y\n",
        "basicas.\n",
        "ejemplo:crea una matriz de 1-D que\n",
        "renga los valores 1,2,3,4,5"
      ],
      "metadata": {
        "id": "D1QjRZK1sftq"
      }
    },
    {
      "cell_type": "code",
      "source": [
        "import numpy as np\n",
        "arreglo = np.array([1,2,3,4,5])\n",
        "print(arreglo)"
      ],
      "metadata": {
        "colab": {
          "base_uri": "https://localhost:8080/"
        },
        "id": "jRZn71ottafh",
        "outputId": "42ae3b65-8d79-4f94-bb3b-6f87077861c4"
      },
      "execution_count": 15,
      "outputs": [
        {
          "output_type": "stream",
          "name": "stdout",
          "text": [
            "[1 2 3 4 5]\n"
          ]
        }
      ]
    },
    {
      "cell_type": "markdown",
      "source": [
        "matices 2D\n",
        "una matrices que tiene matrices 1-D\n",
        "como elementos se denomina matriz 2-D.\n",
        "a menudo se utiliza para reprecentar\n",
        "matrices de segundo orden numpy tiene\n",
        "tiene un submodulo completo dedicado a\n",
        "operaciones con matrices llamndo numpy.\n",
        "mat.\n",
        "ejemplo:crea una matriz"
      ],
      "metadata": {
        "id": "46QxeBgVtxDI"
      }
    },
    {
      "cell_type": "code",
      "source": [
        "import numpy as np\n",
        "arreglo = np.array([[1,2,3],[4,5,6]])\n",
        "print(arreglo)"
      ],
      "metadata": {
        "colab": {
          "base_uri": "https://localhost:8080/"
        },
        "id": "V2IYWHeBuvkp",
        "outputId": "305e175a-2553-4653-8073-3c4f1683dd7a"
      },
      "execution_count": 16,
      "outputs": [
        {
          "output_type": "stream",
          "name": "stdout",
          "text": [
            "[[1 2 3]\n",
            " [4 5 6]]\n"
          ]
        }
      ]
    },
    {
      "cell_type": "markdown",
      "source": [
        "matrices 3-D\n",
        "una matriz que tiene matrices 2D se\n",
        "denomina matriz 3D.\n",
        "estas matrices se utiliza para\n",
        "reprecentar una matriz de tercer orden.\n",
        "ejemplo:crea una matriz 3D dos\n",
        "matirces bidimencionales, ambas\n",
        "conteniendo dos matrices con los\n",
        "valores 1,2,3 y 4,5,6."
      ],
      "metadata": {
        "id": "R4QgBnBhvUNB"
      }
    },
    {
      "cell_type": "code",
      "source": [
        "import numpy as np\n",
        "arreglo = np.array([[[1,2,3],[4,5,6]]]), [[1,2,3]],[[4,5,6]]\n",
        "print(arreglo)\n"
      ],
      "metadata": {
        "colab": {
          "base_uri": "https://localhost:8080/"
        },
        "id": "hxpE6OxAwUPB",
        "outputId": "6c6e3bf7-f4da-4281-a970-95be3f70aea6"
      },
      "execution_count": 17,
      "outputs": [
        {
          "output_type": "stream",
          "name": "stdout",
          "text": [
            "(array([[[1, 2, 3],\n",
            "        [4, 5, 6]]]), [[1, 2, 3]], [[4, 5, 6]])\n"
          ]
        }
      ]
    }
  ]
}