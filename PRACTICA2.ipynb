{
  "nbformat": 4,
  "nbformat_minor": 0,
  "metadata": {
    "colab": {
      "provenance": [],
      "authorship_tag": "ABX9TyPeugdLEpb9FJm4NbCU+NvT",
      "include_colab_link": true
    },
    "kernelspec": {
      "name": "python3",
      "display_name": "Python 3"
    },
    "language_info": {
      "name": "python"
    }
  },
  "cells": [
    {
      "cell_type": "markdown",
      "metadata": {
        "id": "view-in-github",
        "colab_type": "text"
      },
      "source": [
        "<a href=\"https://colab.research.google.com/github/victor-68/unidad1/blob/main/PRACTICA2.ipynb\" target=\"_parent\"><img src=\"https://colab.research.google.com/assets/colab-badge.svg\" alt=\"Open In Colab\"/></a>"
      ]
    },
    {
      "cell_type": "code",
      "execution_count": null,
      "metadata": {
        "id": "c0tzEwDCrwbw"
      },
      "outputs": [],
      "source": []
    },
    {
      "cell_type": "markdown",
      "source": [
        "PRACTICA 2 - numpy\n",
        "victor martinez alvarez\n",
        "fecha 09 de septiembre de 2025\n",
        "-------------\n",
        "como verificar el numero de dimenciones.\n",
        "nummpyproporciona el atributo ndimque devuelve\n",
        "un numero entero que nos dice cuentas\n",
        "dimenciones tiene una matriz\n",
        "-------------------\n",
        "ejemplo:comprueva de cuentas dimenciones son\n",
        "las siguientes matrizes"
      ],
      "metadata": {
        "id": "YC9e0K7-r7_1"
      }
    },
    {
      "cell_type": "code",
      "source": [
        "import numpy as np\n",
        "arregloA = np.array(42)\n",
        "arregloB = np.array([1,2,3,4,5])\n",
        "arregloC = np.array([[1,2,3],[4,5,6]])\n",
        "arregloD = np.array([[[1,2,3],[4,5,6]],[[1,2,3], [4,5,6]]])\n",
        "\n",
        "print(arregloA.ndim)\n",
        "print(arregloB.ndim)\n",
        "print(arregloC.ndim)\n",
        "print(arregloD.ndim)"
      ],
      "metadata": {
        "colab": {
          "base_uri": "https://localhost:8080/"
        },
        "id": "xJL8GgVstZFq",
        "outputId": "0c7ad1e3-1625-44e8-9b34-c0d293350474"
      },
      "execution_count": 1,
      "outputs": [
        {
          "output_type": "stream",
          "name": "stdout",
          "text": [
            "0\n",
            "1\n",
            "2\n",
            "3\n"
          ]
        }
      ]
    },
    {
      "cell_type": "markdown",
      "source": [
        "matrices de dimenciones superiores\n",
        "una matriz puede tener cualquier numero de\n",
        "dimenciones.cuando se crea la matriz , puede\n",
        "definir el numero de dimenciones utilizando el\n",
        "argumento ndim.\n",
        "ejemplo: crea una matirz con 5 dimenciones y\n",
        "verifica que tenga las 5 dimenciones."
      ],
      "metadata": {
        "id": "HrV8VHHwvTR3"
      }
    },
    {
      "cell_type": "code",
      "source": [
        "import numpy as np\n",
        "arreglo = np.array([1,2,3,4,5], ndmin=5)\n",
        "\n",
        "print(arreglo)\n",
        "\n",
        "print('numero de dimenciones: ' , arreglo.ndim)"
      ],
      "metadata": {
        "colab": {
          "base_uri": "https://localhost:8080/"
        },
        "id": "wxInYYqixw1D",
        "outputId": "79db67ed-88f7-4827-daa9-878bc3cd1762"
      },
      "execution_count": 6,
      "outputs": [
        {
          "output_type": "stream",
          "name": "stdout",
          "text": [
            "[[[[[1 2 3 4 5]]]]]\n",
            "numero de dimenciones:  5\n"
          ]
        }
      ]
    },
    {
      "cell_type": "markdown",
      "source": [
        "ejercicio:\n",
        "considerando la siguiente matriz\n",
        "\n",
        "arreglo= np.array([[1,2,3], [4,5,6]])\n",
        "\n",
        "¿cuantas dimenciones tiene?\n",
        "respuestas="
      ],
      "metadata": {
        "id": "uqKGs1sTyjZL"
      }
    },
    {
      "cell_type": "markdown",
      "source": [
        "numpy indexacion de matrices\n",
        "acceder a elemtos de una matriz\n",
        "la indexacion de matirces es lo mismo que\n",
        "acceder a un elementos de una matriz.puede\n",
        "acceder a un elementos de la matriz haciendo\n",
        "referencia a su numero de indice. los\n",
        "indices en las matrices numpy comienza en\n",
        "0, lo que significa que el primer elemento\n",
        "tiene el indices 0 y el segundo tiene el\n",
        "indices1 etc.\n",
        "ejemplo:obtenga el primer elemento\n",
        "de la siguiente matriz.\n",
        "-----------------------"
      ],
      "metadata": {
        "id": "3qwr0LcvzcI5"
      }
    },
    {
      "cell_type": "code",
      "source": [
        "import numpy as np\n",
        "\n",
        "arreglo = np.array([1,2,3,4])\n",
        "\n",
        "print(arreglo[0])"
      ],
      "metadata": {
        "colab": {
          "base_uri": "https://localhost:8080/"
        },
        "id": "HXLE4B7a1Agn",
        "outputId": "ce7a9c3a-8516-4c19-bc0f-2b5ec2b9a04b"
      },
      "execution_count": 7,
      "outputs": [
        {
          "output_type": "stream",
          "name": "stdout",
          "text": [
            "1\n"
          ]
        }
      ]
    }
  ]
}