{
  "nbformat": 4,
  "nbformat_minor": 0,
  "metadata": {
    "colab": {
      "provenance": [],
      "authorship_tag": "ABX9TyOIwzYCQgqprWojb4FPlrGj",
      "include_colab_link": true
    },
    "kernelspec": {
      "name": "python3",
      "display_name": "Python 3"
    },
    "language_info": {
      "name": "python"
    }
  },
  "cells": [
    {
      "cell_type": "markdown",
      "metadata": {
        "id": "view-in-github",
        "colab_type": "text"
      },
      "source": [
        "<a href=\"https://colab.research.google.com/github/victor-68/unidad1/blob/main/ejemplo.ipynb\" target=\"_parent\"><img src=\"https://colab.research.google.com/assets/colab-badge.svg\" alt=\"Open In Colab\"/></a>"
      ]
    },
    {
      "cell_type": "code",
      "execution_count": null,
      "metadata": {
        "id": "0QlwrpU1wDTc"
      },
      "outputs": [],
      "source": []
    },
    {
      "cell_type": "markdown",
      "source": [
        "prueva de colab python"
      ],
      "metadata": {
        "id": "FSQJCf4sxdnz"
      }
    },
    {
      "cell_type": "code",
      "source": [
        "print(\"hola mundo\")"
      ],
      "metadata": {
        "colab": {
          "base_uri": "https://localhost:8080/"
        },
        "id": "6KxpdqAuxxeJ",
        "outputId": "400b8c85-73c8-485e-92fa-a4c82b57fbe6"
      },
      "execution_count": 1,
      "outputs": [
        {
          "output_type": "stream",
          "name": "stdout",
          "text": [
            "hola mundo\n"
          ]
        }
      ]
    },
    {
      "cell_type": "markdown",
      "source": [
        "variable"
      ],
      "metadata": {
        "id": "fYlqA8A2yYCX"
      }
    },
    {
      "cell_type": "code",
      "source": [
        "#variables en python\n",
        "nombre = \"victor\"\n",
        "paterno = \"martinez\"\n",
        "materno = \"alvarez\"\n",
        "edad = 17\n",
        "estatura = 1.60\n",
        "\n",
        "print(nombre,paterno,materno,edad,estatura)"
      ],
      "metadata": {
        "colab": {
          "base_uri": "https://localhost:8080/"
        },
        "id": "uEoGgU4HyWqY",
        "outputId": "3ed99552-fbb3-497d-f484-d23c7e1fa1d8"
      },
      "execution_count": 2,
      "outputs": [
        {
          "output_type": "stream",
          "name": "stdout",
          "text": [
            "victor martinez alvarez 17 1.6\n"
          ]
        }
      ]
    },
    {
      "cell_type": "markdown",
      "source": [
        "solicitar 2 numeros al usuario y sumarlos"
      ],
      "metadata": {
        "id": "RsFn8ZA1zfo_"
      }
    },
    {
      "cell_type": "code",
      "source": [
        "numero1 = int(input(\"ingresa el primer numero\"))\n",
        "numero2 = int(input(\"ingresa el segundo numero\"))\n",
        "suma =numero1 + numero2\n",
        "print(\"suma = \", suma)"
      ],
      "metadata": {
        "colab": {
          "base_uri": "https://localhost:8080/"
        },
        "id": "XvBO0qukzlMy",
        "outputId": "b4161296-62f2-4b6b-d6fe-137508d1b061"
      },
      "execution_count": 3,
      "outputs": [
        {
          "output_type": "stream",
          "name": "stdout",
          "text": [
            "ingresa el primer numero5\n",
            "ingresa el segundo numero10\n",
            "suma =  15\n"
          ]
        }
      ]
    }
  ]
}